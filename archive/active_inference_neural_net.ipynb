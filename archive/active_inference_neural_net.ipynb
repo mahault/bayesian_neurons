{
  "nbformat": 4,
  "nbformat_minor": 2,
  "metadata": {
    "colab": {
      "name": "active_inference_neural_net.ipynb",
      "provenance": [],
      "collapsed_sections": []
    },
    "kernelspec": {
      "name": "python3",
      "display_name": "Python 3.8.8 64-bit ('base': conda)"
    },
    "language_info": {
      "name": "python",
      "version": "3.8.8",
      "mimetype": "text/x-python",
      "codemirror_mode": {
        "name": "ipython",
        "version": 3
      },
      "pygments_lexer": "ipython3",
      "nbconvert_exporter": "python",
      "file_extension": ".py"
    },
    "interpreter": {
      "hash": "e134e05457d34029b6460cd73bbf1ed73f339b5b6d98c95be70b69eba114fe95"
    }
  },
  "cells": [
    {
      "cell_type": "code",
      "execution_count": 1,
      "source": [
        "import numpy as np\n",
        "import matplotlib.pyplot as plt\n",
        "\n",
        "def softmax(X):                                                                 ###converts log probabilities to probabilities\n",
        "  norm = np.sum(np.exp(X)+10**-5)\n",
        "  Y = (np.exp(X)+10**-5)/norm\n",
        "  return Y\n",
        "\n",
        "def softmax_dim2(X):                                                            ###converts matrix of log probabilities to matrix of probabilities\n",
        "  norm = np.sum(np.exp(X)+10**-5,axis=0)\n",
        "  Y = (np.exp(X)+10**-5)/norm\n",
        "  return Y\n",
        "\n",
        "def normalise(X):                                                               ###normalises a matrix of probabilities\n",
        "  X= X/np.sum(X,0)\n",
        "  return X\n",
        "\n",
        "def predict(X,B):\n",
        "  return np.inner(B,X)                                                          # Generate next state estimate, prediction step of filter\n",
        "\n",
        "# Correction step given a likelihood matrix and observation vector.\n",
        "# Formally a backwards BP message over a discrete transition node.\n",
        "# Observations are np arrays that sum to 1, ie Categorical distributions\n",
        "def obs_correct(X,A,obs):\n",
        "  return softmax(np.log(X)+np.log(np.transpose(A) @ obs))\n",
        "  \n",
        "# Check if we pass a confidence threshold for network activity\n",
        "def fire(X,threshold):\n",
        "    return X > threshold"
      ],
      "outputs": [],
      "metadata": {
        "id": "Q6xi1vBJaAHg"
      }
    },
    {
      "cell_type": "code",
      "execution_count": 82,
      "source": [
        "# parameter functions\n",
        "\n",
        "# Likelihood matrix defined for each presynaptic neuron with some initial confidence (Palacios et al. use 0.5) on observations. \n",
        "\n",
        "def get_likelihood(number_of_presynaptic_neurons, initial_confidence):\n",
        "  ''' \n",
        "  Generates the likelihood matrices given the number of inputs and initial observation precision. \n",
        "  '''\n",
        "  p = initial_confidence\n",
        "  assert 0 <= p <= 1, \"Confidence must be in range [0,1]\"\n",
        "  A = np.zeros((number_of_presynaptic_neurons,2,2))\n",
        "  for i in range(number_of_presynaptic_neurons):\n",
        "    A[i,:,0] = [1-p , p]\n",
        "    A[i,:,1] = [p , 1-p]\n",
        "  return A\n",
        "\n",
        "# Inspired by Palacios et al. 2019\n",
        "# Tranisition matrix depends on the neuron's 'memory' of it's own recent activity. \n",
        "# If the neuron has fired in the 'interspike interval' then it expects to continue firing. \n",
        "# This slightly unusual formulation approximates a deep temporal model. \n",
        "\n",
        "def get_transition_matrix(tau, t_min, t_max, Xbar):\n",
        "  recent_fire = 0\n",
        "  B = np.zeros((2,2))\n",
        "\n",
        "  for x in Xbar[0,max(0,tau-t_max):max(0,tau-t_min)]:\n",
        "    if x > 0.5: \n",
        "      recent_fire = 1\n",
        "      break\n",
        "  if recent_fire == 0:\n",
        "    B[:,0]=[0.2,.8]\n",
        "    B[:,1]=[0.2,.8]\n",
        "  else:\n",
        "    B[:,0]=[.8,.2]\n",
        "    B[:,1]=[.8,.2]  \n",
        "  return B\n"
      ],
      "outputs": [],
      "metadata": {
        "id": "us7hZRektWK_"
      }
    },
    {
      "cell_type": "code",
      "execution_count": 63,
      "source": [
        "# parameters for testing\n",
        "number_of_presynaptic_neurons = 1\n",
        "\n",
        "#timesteps\n",
        "T = 20\n",
        "\n",
        "# initial time step\n",
        "tau = 0\n",
        "\n",
        "# interspike interval\n",
        "t_min = 1\n",
        "t_max = 3\n",
        "\n",
        "# initialise internal neuron state priors and posteriors (network firing vs network silent)\n",
        "X = np.zeros((2,T))\n",
        "Xbar = np.zeros((2,T))\n",
        "\n",
        "# state prior D\n",
        "X[:,0] = [0.5,0.5]\n",
        "\n",
        "# observations (silent 0 vs fire 1)\n",
        "O = np.zeros(T)\n",
        "\n",
        "# initial input\n",
        "\n",
        "O = np.ones(T)\n",
        "O[6] = 0\n",
        "O[7] = 0\n",
        "O[8] = 0\n",
        "O[9] = 0\n",
        "O[10] = 0\n",
        "O[11] = 0\n",
        "\n",
        "# action potential generated by the neuron (starts silent)\n",
        "O_out = np.zeros(T-1)\n"
      ],
      "outputs": [],
      "metadata": {}
    },
    {
      "cell_type": "code",
      "execution_count": null,
      "source": [
        "# run experiment for one neuron\n",
        "\n",
        "A = get_likelihood(1, 0.95)\n",
        "\n",
        "for t in range(T):\n",
        "    print(t)\n",
        "    # get internal model based on historic activity\n",
        "    B_t = get_transition_matrix(t, t_min, t_max, Xbar)\n",
        "\n",
        "    ## calculate perceptual state posterior given observation\n",
        "    Xbar[:,t] = softmax(np.log(X[:,t])+np.log(A[0,int(O[t]),:]))\n",
        "\n",
        "    if t < (T-1):\n",
        "        # generate action - the probability of firing depends on the neuron's beleif that it is participating in a firing vs silent network\n",
        "        O_out[t] = np.random.choice([1,0], p=Xbar[:,t])\n",
        "\n",
        "        #evolve expected state\n",
        "        X[:,t+1] = np.inner(B_t, Xbar[:,t])"
      ],
      "outputs": [],
      "metadata": {}
    },
    {
      "cell_type": "code",
      "execution_count": 100,
      "source": [
        "# define connections between neurons (1 if connected)\n",
        "connectivity_matrix = np.array([[0,1],[0,0]])\n",
        "unique, counts = np.unique(connectivity_matrix[0], return_counts=True)\n",
        "print(counts)\n",
        "\n",
        "output_matrix = np.zeros((len(connectivity_matrix),T))\n",
        "print(output_matrix)"
      ],
      "outputs": [
        {
          "output_type": "stream",
          "name": "stdout",
          "text": [
            "[1 1]\n",
            "[[0. 0. 0. 0. 0. 0. 0. 0. 0. 0. 0. 0. 0. 0. 0. 0. 0. 0. 0. 0.]\n",
            " [0. 0. 0. 0. 0. 0. 0. 0. 0. 0. 0. 0. 0. 0. 0. 0. 0. 0. 0. 0.]]\n"
          ]
        }
      ],
      "metadata": {}
    },
    {
      "cell_type": "code",
      "execution_count": 94,
      "source": [
        "class Neuron:\n",
        "    def __init__(self, index, connectivity_matrix, output_matrix, T):\n",
        "        self.index = index\n",
        "        self.init_precision = 0.9\n",
        "        u, counts = np.unique(connectivity_matrix[self.index], return_counts=True)\n",
        "        assert len(counts) == 2, \"Neuron has no connections. Check the connectivity matrix.\"\n",
        "        self.number_of_presynaptic_neurons = counts[1]\n",
        "        self.A = get_likelihood(self.number_of_presynaptic_neurons, self.init_precision)\n",
        "        self.X = np.zeros((2,T))\n",
        "        self.X[:,0] = [0.5,0.5]\n",
        "        self.Xbar = np.zeros((2,T))\n",
        "        self.O = np.zeros(T)\n",
        "        self.O_out = output_matrix[0]\n",
        "\n",
        "        # define 'refractory period'\n",
        "        self.t_min = 1\n",
        "        self.t_max = 3\n",
        "\n",
        "    def get_transition_matrix(self, t):\n",
        "        recent_fire = 0\n",
        "        B = np.zeros((2,2))\n",
        "        for x in self.Xbar[0,max(0,t-self.t_max):max(0,t-self.t_min)]:\n",
        "            if x > 0.5: \n",
        "                recent_fire = 1\n",
        "                break\n",
        "        if recent_fire == 0:\n",
        "            B[:,0]=[0.2,.8]\n",
        "            B[:,1]=[0.2,.8]\n",
        "        else:\n",
        "            B[:,0]=[.8,.2]\n",
        "            B[:,1]=[.8,.2]  \n",
        "        return B\n",
        "\n",
        "    def perceive_network(self, t):\n",
        "        self.O[t] = output_matrix[1,t]\n",
        "        self.Xbar[:,t] = softmax(np.log(self.X[:,t])+np.log(self.A[0,int(self.O[t]),:]))\n",
        "        return self.Xbar[:,t]\n",
        "\n",
        "    def broadcast_beliefs(self, t):\n",
        "        self.O_out[t] = np.random.choice([1,0], p=self.Xbar[:,t])\n",
        "        return self.O_out[t]\n",
        "\n",
        "    def predict(self, t):\n",
        "        B_t = get_transition_matrix(t)\n",
        "        self.X[:,t+1] = np.inner(B_t, self.Xbar[:,t])"
      ],
      "outputs": [],
      "metadata": {}
    },
    {
      "cell_type": "code",
      "execution_count": 97,
      "source": [
        "neuron_0 = Neuron(0, connectivity_matrix, 0.9, T)\n",
        "print(neuron_0.number_of_presynaptic_neurons)\n",
        "neuron_0.A"
      ],
      "outputs": [
        {
          "output_type": "stream",
          "name": "stdout",
          "text": [
            "1\n"
          ]
        },
        {
          "output_type": "execute_result",
          "data": {
            "text/plain": [
              "array([[[0.1, 0.9],\n",
              "        [0.9, 0.1]]])"
            ]
          },
          "metadata": {},
          "execution_count": 97
        }
      ],
      "metadata": {}
    },
    {
      "cell_type": "code",
      "execution_count": 41,
      "source": [
        "plt.figure(figsize=(8,6))\n",
        "\n",
        "#plt.plot(1.5+np.arange(0,T-1),Pi2[0,:-1],label='stay (prior)',linestyle='--')\n",
        "#plt.plot(np.arange(1,T),Pi2[1,:-1],label='switch (prior')\n",
        "plt.plot(np.arange(0,T),Xbar[0,:],label=r'${\\bar{X}}}$',color='coral')\n",
        "plt.scatter(np.arange(T),O,label='inputs',color='orangered')\n",
        "plt.legend(loc = 'lower right')\n",
        "plt.ylim([0,1.0])\n",
        "plt.yticks([-0.05,1.05],['silent','firing'])\n",
        "#plt.ylabel(r'$\\pi^{(2)}$')\n",
        "plt.title('Neural posterior beliefs of network state')\n",
        "plt.xlim([0,T])\n",
        "\n",
        "plt.tight_layout()"
      ],
      "outputs": [
        {
          "output_type": "display_data",
          "data": {
            "image/png": "[encoded data removed]",
            "text/plain": [
              "<Figure size 576x432 with 1 Axes>"
            ]
          },
          "metadata": {
            "needs_background": "light"
          }
        }
      ],
      "metadata": {}
    },
    {
      "cell_type": "code",
      "execution_count": 27,
      "source": [
        "print(A[0,0,:])\n",
        "print(A[0,1,:])"
      ],
      "outputs": [
        {
          "output_type": "stream",
          "name": "stdout",
          "text": [
            "[1. 0.]\n",
            "[0. 1.]\n"
          ]
        }
      ],
      "metadata": {}
    },
    {
      "cell_type": "code",
      "execution_count": 16,
      "source": [
        "print(O)\n",
        "\n",
        "print(X)\n",
        "print(Xbar)"
      ],
      "outputs": [
        {
          "output_type": "stream",
          "name": "stdout",
          "text": [
            "[1. 0. 1. 0. 1. 0. 1. 0. 1. 0.]\n",
            "[[0.5 0.  0.  0.  0.  0.  0.  0.  0.  0. ]\n",
            " [0.5 0.  1.  1.  1.  1.  1.  1.  1.  1. ]]\n",
            "[[1.00015999e-01 5.00000000e-01 1.11108642e-05 9.99800040e-05\n",
            "  1.11108642e-05 9.99800040e-05 1.11108642e-05 9.99800040e-05\n",
            "  1.11108642e-05 9.99800040e-05]\n",
            " [8.99984001e-01 5.00000000e-01 9.99988889e-01 9.99900020e-01\n",
            "  9.99988889e-01 9.99900020e-01 9.99988889e-01 9.99900020e-01\n",
            "  9.99988889e-01 9.99900020e-01]]\n"
          ]
        }
      ],
      "metadata": {}
    },
    {
      "cell_type": "markdown",
      "source": [
        "Code below from doubletake as reference"
      ],
      "metadata": {}
    },
    {
      "cell_type": "code",
      "execution_count": null,
      "source": [
        "import numpy as np\n",
        "\n",
        "def get_params(p1, p2):\n",
        "    ### Defining A matrices for multi-modal, precision modulated observations\n",
        "    A1 = [[p1, 1-p1], [1-p1, p1]]\n",
        "    A2 = [[p2, 1-p2], [1-p2, p2]]\n",
        "\n",
        "    # Higher level likelihood. We can weigh audio/video differently here\n",
        "    A3 = np.eye(2)\n",
        "\n",
        "    # TO DO: think about what makes sense here.\n",
        "    # We can flex this to get the right 'windowing',\n",
        "    # ie. a suitable decay rate of beliefs will allow audio and video\n",
        "    # outputs to build on eachother even if they arrive in different time-windows.\n",
        "\n",
        "    # Audio\n",
        "    B1 = np.zeros((2,2))\n",
        "    B1[:,0]=[0.8,0.2]\n",
        "    B1[:,1]=[0.2,0.8]\n",
        "\n",
        "    # Video\n",
        "    B2 = np.zeros((2,2))\n",
        "    B2[:,0]=[0.915,0.085]\n",
        "    B2[:,1]=[0.085,0.915]\n",
        "\n",
        "    # Higher\n",
        "    B3 = np.zeros((2,2))\n",
        "    B3[:,0]=[0.81,0.19]\n",
        "    B3[:,1]=[0.19,0.81]\n",
        "\n",
        "    return A1,A2,A3,B1, B2, B3"
      ],
      "outputs": [],
      "metadata": {
        "id": "LtHQvCtZaEPY"
      }
    },
    {
      "cell_type": "code",
      "execution_count": null,
      "source": [
        "def run_experiment(video_clap, audio_clap, no_hands, distance):\n",
        "    # belief threshold that marks the moment a clap is perceived\n",
        "    threshold = 0.8\n",
        "\n",
        "    # Number of time steps\n",
        "    T = 100\n",
        "    timestep = 0\n",
        "\n",
        "    # Get parameters for Lars' original simulation,works with T=100\n",
        "    # Eventually, take out precision as well and replace with live inputs,\n",
        "    # this means that T will no longer be needed\n",
        "    # T will become p1 and p2 for audio and video and be moved into the while loop\n",
        "    _,_,A3,B1,B2,B3 = get_params(0, 0)\n",
        "\n",
        "    # initial state,2nd layer\n",
        "    X_2_min = [0.5, 0.5]\n",
        "    # initial state, audio\n",
        "    X_audio_min = [0.5, 0.5]\n",
        "    # initial state, video\n",
        "    X_video_min = [0.5, 0.5]\n",
        "\n",
        "    claps = []\n",
        "    clap_prev = False\n",
        "\n",
        "    # State Check Variables\n",
        "    ignore_state = False\n",
        "    state, step1, step2, memory, O_video_old, p2_old = 0, 0, 0, 0, 0, 0\n",
        "\n",
        "    # perception posterior (no clap vs clap)\n",
        "    X_output = []\n",
        "    # Xbar = np.append(np.array([[0.5, 0.5]]), np.zeros((1,2)), axis=0) # 0.5 0.5 would be the x_t in this case\n",
        "    X_t_audio_min = X_audio_min\n",
        "    X_t_video_min = X_video_min\n",
        "    X_t_2_min = X_2_min\n",
        "\n",
        "    # Number of iterations at hands are not in frame\n",
        "    num_not_visible = 0\n",
        "    no_hands_detected = True\n",
        "\n",
        "    # Establish the socket connection to Unity app\n",
        "    manager = ConnectionManager()\n",
        "    connection_to_server = Connection(\"server\", '127.0.0.1', 8055, ConnectionType.CLIENT)\n",
        "    manager.add_connection(connection_to_server)\n",
        "\n",
        "    while 1:\n",
        "\n",
        "        # Calls the video and audio inputs and returns the observation and confidence values\n",
        "        O_video, p2, vel, O_audio, p1, video_flag, audio_flag = receive_inputs(video_clap, audio_clap)\n",
        "\n",
        "        # Checks whether inputs are connected\n",
        "        # ignore_state, O_video, p2, step1, step2 = check_state(timestep, O_video, p2, video_flag, audio_flag, ignore_state, state, step1, step2, memory, O_video_old, p2_old, no_hands)\n",
        "        \n",
        "        # This checks if hands are present in the frame of the camera and returns a distance values for the hands\n",
        "        try:\n",
        "            no_hands_detected = no_hands.get_nowait()\n",
        "            print(no_hands_detected)\n",
        "        except:\n",
        "            no_hands_detected = False\n",
        "\n",
        "        if no_hands_detected is False:\n",
        "            try:\n",
        "                distance_hands = distance.get_nowait()\n",
        "                # then send the distance\n",
        "                print('sending distance to unity')\n",
        "            except:\n",
        "                distance_hands = -1\n",
        "      \n",
        "\n",
        "        # Checks if audio and/or video were detected in the same frame\n",
        "        if audio_flag == True or video_flag == True:\n",
        "            # print(\"CLAP\")\n",
        "            A1,A2,A3,B1,B2,B3 = get_params(p1, p2)\n",
        "\n",
        "        # Prediction for next time step. This gives us p(x_t | x_{t-1})\n",
        "        # 3 states: Audio, video, higher layer\n",
        "        # Currently just 1 transition matrix. Each state needs its own B\n",
        "        X_t_audio = predict(X_t_audio_min,B1)\n",
        "        X_t_video = predict(X_t_video_min,B2)\n",
        "        X_t_2 = predict(X_t_2_min,B3)\n",
        "\n",
        "        # If we have observations, do a correction step\n",
        "        # Can we make the output a [0,1] vector in case of clap? Then we can use a generic correction function\n",
        "        if audio_flag == True:\n",
        "            # Select the observation - this is a bit unusual\n",
        "            X_t_audio = correct_proper(X_t_audio,A1,[1-O_audio, O_audio])\n",
        "        if video_flag == True:\n",
        "            X_t_video = correct_proper(X_t_video,A2,[1-O_video, O_video])\n",
        "\n",
        "        # Update higher layer. We always incorporate information from lower layers since it's always available\n",
        "        # Note that we use a different correction step since we don't have obs in the form of an A-matrix as in Lars' original model\n",
        "        q_X_t_2 = correct_proper(X_t_2,A3,X_t_audio)\n",
        "        q_X_t_2 = correct_proper(q_X_t_2,A3,X_t_video)\n",
        "\n",
        "        # Store the output\n",
        "        X_output.append(q_X_t_2[1])\n",
        "\n",
        "        # Do we detect a clap? Check second dimension of hidden state\n",
        "        clap = clap_detected(q_X_t_2[1],threshold)\n",
        "\n",
        "        # Peak Detection\n",
        "        clap, clap_prev = peak_detection(clap, clap_prev)\n",
        "        \n",
        "        ## Sync Check that is linked with the check_state() function above\n",
        "        ## May be useful later, keep just in case for now\n",
        "        # try:\n",
        "        #     if ignore_state == True and claps[step1] == True:\n",
        "        #         clap = False\n",
        "        #         ignore_state = False\n",
        "        # except IndexError:\n",
        "        #     pass\n",
        "\n",
        "        # Check if True and send to Unity App\n",
        "        if clap == True: \n",
        "            manager.enqueue_message((connection_to_server, (Message(Body([1, int(vel*100), int(distance_hands*100), 2, 5])))))  \n",
        "\n",
        "        # Add results to the clap list\n",
        "        claps.append(clap)\n",
        "\n",
        "\n",
        "        # Reset for the next iteration\n",
        "        X_t_audio_min = X_t_audio\n",
        "        X_t_video_min = X_t_video\n",
        "        X_t_2_min = q_X_t_2\n",
        "\n",
        "        timestep +=1\n",
        "\n",
        "        # Calls the function to output a plot of the clap signals\n",
        "        # plot_output(timestep, T, claps, X_output, threshold)"
      ],
      "outputs": [],
      "metadata": {
        "id": "aPCvBKxuboHL"
      }
    }
  ]
}